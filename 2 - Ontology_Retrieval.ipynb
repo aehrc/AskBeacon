{
 "cells": [
  {
   "cell_type": "code",
   "execution_count": 1,
   "id": "dd09d5ee-5c65-4230-b3d1-c403895205ef",
   "metadata": {},
   "outputs": [
    {
     "name": "stderr",
     "output_type": "stream",
     "text": [
      "/Users/wic053/miniforge3/envs/py312/lib/python3.12/site-packages/pydantic/_migration.py:283: UserWarning: `pydantic.error_wrappers:ValidationError` has been moved to `pydantic:ValidationError`.\n",
      "  warnings.warn(f'`{import_path}` has been moved to `{new_location}`.')\n"
     ]
    }
   ],
   "source": [
    "# lang chain\n",
    "from langchain_openai import AzureOpenAIEmbeddings\n",
    "\n",
    "# system\n",
    "import os\n",
    "import csv\n",
    "\n",
    "# Vector DB\n",
    "from docarray.index import InMemoryExactNNIndex\n",
    "\n",
    "# utils\n",
    "from utils.models import VecDBEntry\n",
    "from utils.db import search_db\n",
    "\n",
    "# numerics\n",
    "import numpy as np"
   ]
  },
  {
   "cell_type": "code",
   "execution_count": 2,
   "id": "2d4753f9-be6f-40dd-a852-7477e00ecda7",
   "metadata": {},
   "outputs": [],
   "source": [
    "os.environ[\"AZURE_OPENAI_API_KEY\"] = os.environ[\"OPENAI_API_KEY\"]\n",
    "os.environ[\"AZURE_OPENAI_ENDPOINT\"] = os.environ[\"OPENAI_API_BASE\"]\n",
    "os.environ[\"AZURE_OPENAI_API_VERSION\"] = os.environ[\"OPENAI_API_VERSION\"]\n",
    "os.environ[\"AZURE_OPENAI_CHAT_DEPLOYMENT_NAME\"] = \"firstcontact-gpt4-turbo\"\n",
    "\n",
    "del os.environ[\"OPENAI_API_BASE\"]"
   ]
  },
  {
   "cell_type": "code",
   "execution_count": 3,
   "id": "3dadf758-7173-40ca-a2f2-ad08d15660c2",
   "metadata": {},
   "outputs": [],
   "source": [
    "embeddings_model = AzureOpenAIEmbeddings(\n",
    "    azure_deployment=\"firstcontact-embeddings\",\n",
    "    model=\"gpt-4-128k\"\n",
    ")"
   ]
  },
  {
   "cell_type": "markdown",
   "id": "6e399e76",
   "metadata": {},
   "source": [
    "## Perform Embedding"
   ]
  },
  {
   "cell_type": "code",
   "execution_count": 4,
   "id": "0a5ea72b-1897-4659-8273-37f3914fa71e",
   "metadata": {},
   "outputs": [],
   "source": [
    "if not os.path.isfile('embeddings.csv'):\n",
    "    entries = []\n",
    "    with open('./terms.csv') as fp:\n",
    "        reader = csv.reader(fp)\n",
    "        for row, (term, label, scope) in enumerate(reader):\n",
    "            if row==0:\n",
    "                continue\n",
    "            entries.append((term, label, scope))\n",
    "\n",
    "    to_embed = list(map(lambda x: x[1], entries))\n",
    "    embedded = embeddings_model.embed_documents(to_embed)\n",
    "\n",
    "    with open('embeddings.csv', 'w+') as fp:\n",
    "        writer = csv.writer(fp)\n",
    "        writer.writerow(['term', 'label', 'scope', 'embedding'])\n",
    "        for embedding, (term, label, scope) in zip(embedded, entries):\n",
    "            writer.writerow([term, label, scope, embedding])"
   ]
  },
  {
   "cell_type": "code",
   "execution_count": 5,
   "id": "387963b3-65d2-43dc-8ca5-9806fd5ce2ad",
   "metadata": {},
   "outputs": [],
   "source": [
    "docs = []\n",
    "\n",
    "with open('./embeddings.csv') as fp:\n",
    "    reader = csv.reader(fp)\n",
    "    for row, (term, label, scope, embedding) in enumerate(reader):\n",
    "        if row==0:\n",
    "            continue\n",
    "        embedding = eval(embedding)\n",
    "        docs.append(VecDBEntry(term=term, label=label, scope=scope, embedding=embedding))"
   ]
  },
  {
   "cell_type": "code",
   "execution_count": 6,
   "id": "f72bc050-18cf-4be5-85c9-3ad356a8442d",
   "metadata": {},
   "outputs": [
    {
     "data": {
      "text/html": [
       "<pre style=\"white-space:pre;overflow-x:auto;line-height:normal;font-family:Menlo,'DejaVu Sans Mono',consolas,'Courier New',monospace\">📄 <span style=\"font-weight: bold\">VecDBEntry </span>: <span style=\"color: #008080; text-decoration-color: #008080\">b518f92 ...</span>\n",
       "╭────────────────────┬────────────────────────────────────────────────────────────────────────────────────────────╮\n",
       "│<span style=\"font-weight: bold\"> Attribute          </span>│<span style=\"font-weight: bold\"> Value                                                                                      </span>│\n",
       "├────────────────────┼────────────────────────────────────────────────────────────────────────────────────────────┤\n",
       "│ term: str          │ OBI:0000070                                                                                │\n",
       "│ label: str         │ genotyping assay                                                                           │\n",
       "│ scope: str         │ cohorts                                                                                    │\n",
       "│ embedding: NdArray │ NdArray of shape (1536,), dtype: float64                                                   │\n",
       "╰────────────────────┴────────────────────────────────────────────────────────────────────────────────────────────╯\n",
       "</pre>\n"
      ],
      "text/plain": [
       "📄 \u001b[1mVecDBEntry \u001b[0m: \u001b[36mb518f92 ...\u001b[0m\n",
       "╭────────────────────┬────────────────────────────────────────────────────────────────────────────────────────────╮\n",
       "│\u001b[1m \u001b[0m\u001b[1mAttribute         \u001b[0m\u001b[1m \u001b[0m│\u001b[1m \u001b[0m\u001b[1mValue                                                                                     \u001b[0m\u001b[1m \u001b[0m│\n",
       "├────────────────────┼────────────────────────────────────────────────────────────────────────────────────────────┤\n",
       "│ term: str          │ OBI:0000070                                                                                │\n",
       "│ label: str         │ genotyping assay                                                                           │\n",
       "│ scope: str         │ cohorts                                                                                    │\n",
       "│ embedding: NdArray │ NdArray of shape (1536,), dtype: float64                                                   │\n",
       "╰────────────────────┴────────────────────────────────────────────────────────────────────────────────────────────╯\n"
      ]
     },
     "metadata": {},
     "output_type": "display_data"
    }
   ],
   "source": [
    "docs[0]"
   ]
  },
  {
   "cell_type": "markdown",
   "id": "00bd7796",
   "metadata": {},
   "source": [
    "## Index the Terms"
   ]
  },
  {
   "cell_type": "code",
   "execution_count": 7,
   "id": "b8e31b96-3f4a-4d19-a381-91c32706d0e7",
   "metadata": {},
   "outputs": [],
   "source": [
    "db = InMemoryExactNNIndex[VecDBEntry]()\n",
    "db.index(docs)"
   ]
  },
  {
   "cell_type": "markdown",
   "id": "fc9a4c03",
   "metadata": {},
   "source": [
    "## Find Term"
   ]
  },
  {
   "cell_type": "code",
   "execution_count": 8,
   "id": "0cda151e-e541-4e73-8700-e16ca2a71420",
   "metadata": {},
   "outputs": [
    {
     "name": "stdout",
     "output_type": "stream",
     "text": [
      "matches=<DocList[VecDBEntry] (length=3)>\n",
      "matches.label=['Renal failure', 'Alcoholic liver damage', 'Hyperkalaemia']\n",
      "matches.term=['SNOMED:42399005', 'SNOMED:41309000', 'SNOMED:14140009']\n",
      "scores=array([0.91019983, 0.81845957, 0.80818007])\n"
     ]
    }
   ],
   "source": [
    "query = \"renal failure\"\n",
    "\n",
    "matches, scores = search_db(db, query, embeddings_model)\n",
    "print(f\"{matches=}\")\n",
    "print(f\"{matches.label=}\")\n",
    "print(f\"{matches.term=}\")\n",
    "print(f\"{scores=}\")"
   ]
  }
 ],
 "metadata": {
  "kernelspec": {
   "display_name": "py312",
   "language": "python",
   "name": "python3"
  },
  "language_info": {
   "codemirror_mode": {
    "name": "ipython",
    "version": 3
   },
   "file_extension": ".py",
   "mimetype": "text/x-python",
   "name": "python",
   "nbconvert_exporter": "python",
   "pygments_lexer": "ipython3",
   "version": "3.12.4"
  }
 },
 "nbformat": 4,
 "nbformat_minor": 5
}

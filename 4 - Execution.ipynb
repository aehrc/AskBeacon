{
 "cells": [
  {
   "cell_type": "code",
   "execution_count": 1,
   "id": "9cd043b6-c448-419a-95af-2e09d95f80bf",
   "metadata": {},
   "outputs": [
    {
     "name": "stderr",
     "output_type": "stream",
     "text": [
      "/Users/wic053/miniforge3/envs/py312/lib/python3.12/site-packages/pydantic/_migration.py:283: UserWarning: `pydantic.error_wrappers:ValidationError` has been moved to `pydantic:ValidationError`.\n",
      "  warnings.warn(f'`{import_path}` has been moved to `{new_location}`.')\n"
     ]
    }
   ],
   "source": [
    "# system\n",
    "import os\n",
    "import json\n",
    "\n",
    "# langchain\n",
    "from langchain_openai import AzureChatOpenAI\n",
    "\n",
    "# utils\n",
    "from utils.templates import (\n",
    "    get_analytics_code_generator_chain,\n",
    "    analytics_table_data_template,\n",
    ")\n",
    "from utils.models import GeneratedCodeAnalytics"
   ]
  },
  {
   "cell_type": "code",
   "execution_count": 2,
   "id": "f27aa781-6f81-4a05-9967-faa40a9c65e5",
   "metadata": {},
   "outputs": [],
   "source": [
    "os.environ[\"AZURE_OPENAI_API_KEY\"] = os.environ[\"OPENAI_API_KEY\"]\n",
    "os.environ[\"AZURE_OPENAI_ENDPOINT\"] = os.environ[\"OPENAI_API_BASE\"]\n",
    "os.environ[\"AZURE_OPENAI_API_VERSION\"] = os.environ[\"OPENAI_API_VERSION\"]\n",
    "os.environ[\"AZURE_OPENAI_CHAT_DEPLOYMENT_NAME\"] = \"firstcontact-gpt4-turbo\"\n",
    "\n",
    "del os.environ[\"OPENAI_API_BASE\"]"
   ]
  },
  {
   "cell_type": "code",
   "execution_count": 3,
   "id": "a07dff28-1039-49b0-ae1a-f7816b880a73",
   "metadata": {},
   "outputs": [],
   "source": [
    "llm_json = AzureChatOpenAI(\n",
    "    openai_api_version=os.environ[\"AZURE_OPENAI_API_VERSION\"],\n",
    "    azure_deployment=os.environ[\"AZURE_OPENAI_CHAT_DEPLOYMENT_NAME\"],\n",
    "    model=\"gpt-4-128k\",\n",
    "    model_kwargs={\"response_format\": {\"type\": \"json_object\"}}\n",
    ")"
   ]
  },
  {
   "cell_type": "markdown",
   "id": "7d1d86fa-2c42-41ef-acbd-144a24f89245",
   "metadata": {},
   "source": [
    "## Extractors"
   ]
  },
  {
   "cell_type": "code",
   "execution_count": 4,
   "id": "da3e9bdc-b296-49ec-b69b-4c6325ed7027",
   "metadata": {},
   "outputs": [],
   "source": [
    "def generate_analytics_table_data(table_names, table_info):\n",
    "    constructed_str = \"\"\n",
    "\n",
    "    for name, (cols, types) in zip(table_names, table_info):\n",
    "        constructed_str += analytics_table_data_template.format(\n",
    "            name=name, cols=cols, types=types\n",
    "        )\n",
    "\n",
    "    return constructed_str\n",
    "\n",
    "def generate_analysis_code(query):\n",
    "    metadata = json.load(open(\"metadata.json\", \"r\"))\n",
    "\n",
    "    analytics_code_chain = get_analytics_code_generator_chain(llm_json)\n",
    "    data = generate_analytics_table_data(\n",
    "        metadata[\"table_names\"], metadata[\"table_metadata\"]\n",
    "    )\n",
    "\n",
    "    result: GeneratedCodeAnalytics = analytics_code_chain.invoke(\n",
    "        {\"query\": query, \"data\": data}\n",
    "    )\n",
    "\n",
    "    constructed_str = f\"{result.code}\\n\\n# Following files are saved\\n\"\n",
    "    constructed_str += f\"files = {str(result.files)}\"\n",
    "    constructed_str += f\"\\n\\n# Assumptions\\n\"\n",
    "\n",
    "    if result.assumptions:\n",
    "        for a in result.assumptions:\n",
    "            constructed_str += f\"#     {a}\\n\"\n",
    "    else:\n",
    "        constructed_str += f\"#     None made\\n\"\n",
    "\n",
    "    constructed_str += f\"\\n# Feedback\\n\"\n",
    "\n",
    "    if result.feedback:\n",
    "        for a in result.feedback:\n",
    "            constructed_str += f\"#     {a}\\n\"\n",
    "    else:\n",
    "        constructed_str += f\"#     None given\\n\"\n",
    "\n",
    "    return constructed_str"
   ]
  },
  {
   "cell_type": "code",
   "execution_count": 5,
   "id": "e6a81227-0ea0-463d-83ed-cb7ffab09d64",
   "metadata": {},
   "outputs": [],
   "source": [
    "execution_code = generate_analysis_code(\n",
    "    \"Plot the frequency of karyotypic sex in a pie chart.\"\n",
    "    \" Create a CSV file of individual's id, ethnicity and sex.\"\n",
    ")"
   ]
  },
  {
   "cell_type": "code",
   "execution_count": 6,
   "id": "a9af64b0",
   "metadata": {},
   "outputs": [
    {
     "name": "stdout",
     "output_type": "stream",
     "text": [
      "# Define the path for the output CSV file\n",
      "output_csv_path = '/tmp/individuals_ethnicity_sex.csv'\n",
      "\n",
      "# Extract individual's id, ethnicity, and sex from the dataframe\n",
      "extracted_data = data[['id', 'ethnicity', 'sex']]\n",
      "\n",
      "# Save the extracted data to a CSV file\n",
      "extracted_data.to_csv(output_csv_path, index=False)\n",
      "\n",
      "# Plot the frequency of karyotypic sex in a pie chart\n",
      "karyotypic_sex_counts = data['karyotypicSex'].value_counts()\n",
      "plt.figure(figsize=(8, 6))\n",
      "plt.pie(karyotypic_sex_counts, labels=karyotypic_sex_counts.index, autopct='%1.1f%%', startangle=140)\n",
      "plt.title('Frequency of Karyotypic Sex')\n",
      "\n",
      "# Save the pie chart\n",
      "pie_chart_path = '/tmp/karyotypic_sex_pie_chart.png'\n",
      "plt.savefig(pie_chart_path, bbox_inches='tight')\n",
      "\n",
      "\n",
      "# Following files are saved\n",
      "files = ['/tmp/individuals_ethnicity_sex.csv', '/tmp/karyotypic_sex_pie_chart.png']\n",
      "\n",
      "# Assumptions\n",
      "#     Assuming 'ethnicity' and 'sex' columns contain string representations of the respective attributes.\n",
      "#     Assuming 'sex' column does not require transformation or extraction from a dictionary.\n",
      "\n",
      "# Feedback\n",
      "#     If 'ethnicity' or 'sex' fields are not simple strings but dictionaries, you may need to adjust the code to extract the 'label' key.\n",
      "#     Check the generated CSV to ensure 'ethnicity' and 'sex' columns contain the expected values.\n",
      "\n"
     ]
    }
   ],
   "source": [
    "print(execution_code)"
   ]
  }
 ],
 "metadata": {
  "kernelspec": {
   "display_name": "py312",
   "language": "python",
   "name": "python3"
  },
  "language_info": {
   "codemirror_mode": {
    "name": "ipython",
    "version": 3
   },
   "file_extension": ".py",
   "mimetype": "text/x-python",
   "name": "python",
   "nbconvert_exporter": "python",
   "pygments_lexer": "ipython3",
   "version": "3.12.4"
  }
 },
 "nbformat": 4,
 "nbformat_minor": 5
}
